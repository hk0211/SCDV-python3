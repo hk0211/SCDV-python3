{
 "cells": [
  {
   "cell_type": "code",
   "execution_count": 1,
   "metadata": {},
   "outputs": [],
   "source": [
    "import numpy as np\n",
    "import pandas as pd\n",
    "from sklearn.model_selection import train_test_split\n",
    "from sklearn.preprocessing import MultiLabelBinarizer\n",
    "\n",
    "interim_folder = './interim_data/'\n",
    "num_clusters = 6\n",
    "num_features = 20\n",
    "\n",
    "all_data = pd.read_pickle(interim_folder + 'all.pkl')\n",
    "lb = MultiLabelBinarizer()\n",
    "Y = lb.fit_transform(all_data.tags)\n",
    "train_data, test_data, Y_train, Y_test = train_test_split(all_data[\"text\"], Y, test_size=0.3, random_state=42)\n",
    "\n",
    "gwbowv_name = \"SDV_\" + str(num_clusters) + \"cluster_\" + str(num_features) + \"feature_matrix_gmm_sparse.npy\"\n",
    "gwbowv = np.load(interim_folder + gwbowv_name)\n",
    "\n",
    "test_gwbowv_name = \"TEST_SDV_\" + str(num_clusters) + \"cluster_\" + str(num_features) + \"feature_matrix_gmm_sparse.npy\"\n",
    "gwbowv_test = np.load(interim_folder + test_gwbowv_name)"
   ]
  },
  {
   "cell_type": "code",
   "execution_count": 2,
   "metadata": {},
   "outputs": [
    {
     "name": "stdout",
     "output_type": "stream",
     "text": [
      "(2786, 2)\n",
      "(1950,)\n",
      "(836,)\n",
      "growbowv (1950, 120)\n",
      "growbowv_test (836, 120)\n"
     ]
    }
   ],
   "source": [
    "print(all_data.shape)\n",
    "print(train_data.shape)\n",
    "print(test_data.shape)\n",
    "print('growbowv', gwbowv.shape)\n",
    "print('growbowv_test', gwbowv_test.shape)"
   ]
  },
  {
   "cell_type": "code",
   "execution_count": 12,
   "metadata": {},
   "outputs": [],
   "source": [
    "from sklearn.metrics.pairwise import cosine_similarity\n",
    "\n",
    "similarities_calc_result = []\n",
    "confidence = 0.99\n",
    "\n",
    "for item_index, item in enumerate(gwbowv):\n",
    "    # calculate cosine similarities\n",
    "    similarities = cosine_similarity([item], gwbowv)\n",
    "\n",
    "    # sort in ascending order\n",
    "    similarities_indices =similarities.argsort()[0][-2:-12:-1]\n",
    "\n",
    "    # cocine similarities Iteration\n",
    "    for sim_index in similarities_indices:\n",
    "        similarity = similarities[0][sim_index]\n",
    "\n",
    "        # if similarity is higher than confidence, save it to result object\n",
    "        if similarity > confidence and  similarity < 1:\n",
    "        #if similarity == 1:\n",
    "            similarities_calc_result.append([int(item_index), sim_index, similarity])"
   ]
  },
  {
   "cell_type": "code",
   "execution_count": 25,
   "metadata": {},
   "outputs": [
    {
     "name": "stdout",
     "output_type": "stream",
     "text": [
      ">>>similarity:  0.9959348 \n",
      " BIG B INC  BIGB  4TH QTR JAN 31 NET  Shr 23 cts vs 17 cts Net 1,742,000 vs 1,1512,000 Sales 62.6 mln vs 53.6 mln Avg shrs 7,854,000 vs 6,617,000 Year Shr 61 cts vs 61 cts Net 4,469,000 vs 4,039,000 Sales 209.8 mln vs 175.4 mln Avg shrs 78,369,000 vs 6,610,000 Reuter \u0003 \n",
      "vs\n",
      " HARPER INTERNATIONAL INC  HNT  3RD QTR NET  Qtr ended Jan 31 Shr 12 cts vs 19 cts Net 369,000 vs 358,000 Revs 7,076,000 vs 6,712,000 Avg shrs 3,050,000 vs 1,850,000 Nine mths Shr 53 cts vs 63 cts Net 1,523,000 vs 1,158,000 Revs 22.6 mln vs 20.7 mln Avg shrs 2,852,198 vs 1,850,000 Reuter \u0003 \n",
      "\n",
      ">>>similarity:  0.995675 \n",
      " BIG B INC  BIGB  4TH QTR JAN 31 NET  Shr 23 cts vs 17 cts Net 1,742,000 vs 1,1512,000 Sales 62.6 mln vs 53.6 mln Avg shrs 7,854,000 vs 6,617,000 Year Shr 61 cts vs 61 cts Net 4,469,000 vs 4,039,000 Sales 209.8 mln vs 175.4 mln Avg shrs 78,369,000 vs 6,610,000 Reuter \u0003 \n",
      "vs\n",
      " CML GROUP INC  CMLI  2ND QTR JAN 31 NET  Shr 72 cts vs 58 cts Net 4,791,000 vs 3,803,000 Sales 83.0 mln vs 72.0 mln Avg shrs 6,668,309 vs 6,545,722 1st half Shr 88 cts vs 70 cts Net 5,872,000 vs 4,614,000 Sales 141.6 mln vs 121.8 mln Avg shrs 6,669,488 vs 6,525,051 Reuter \u0003 \n",
      "\n"
     ]
    }
   ],
   "source": [
    "reset = train_data.reset_index(drop=True)\n",
    "\n",
    "for doc in similarities_calc_result[20:22]:\n",
    "    print('>>>similarity: ', doc[2], '\\n', reset[doc[0]],\"\\nvs\\n\", reset[doc[1]], '\\n')"
   ]
  },
  {
   "cell_type": "code",
   "execution_count": 26,
   "metadata": {},
   "outputs": [
    {
     "data": {
      "image/png": "[encoded data removed]",
      "text/plain": [
       "<Figure size 432x288 with 1 Axes>"
      ]
     },
     "metadata": {
      "needs_background": "light"
     },
     "output_type": "display_data"
    }
   ],
   "source": [
    "%matplotlib inline\n",
    "import matplotlib.pyplot as plt\n",
    "from sklearn.decomposition import PCA\n",
    "from sklearn.manifold import TSNE\n",
    "\n",
    "# X_reduced = PCA(n_components=2).fit_transform(gwbowv)\n",
    "# plt.scatter(X_reduced[:, 0], X_reduced[:, 1])\n",
    "# plt.show()\n",
    "\n",
    "X_reduced = TSNE(n_components=2, random_state=0).fit_transform(gwbowv)\n",
    "plt.scatter(X_reduced[:, 0], X_reduced[:, 1])\n",
    "plt.show()"
   ]
  }
 ],
 "metadata": {
  "kernelspec": {
   "display_name": "Python 3",
   "language": "python",
   "name": "python3"
  },
  "language_info": {
   "codemirror_mode": {
    "name": "ipython",
    "version": 3
   },
   "file_extension": ".py",
   "mimetype": "text/x-python",
   "name": "python",
   "nbconvert_exporter": "python",
   "pygments_lexer": "ipython3",
   "version": "3.7.1"
  }
 },
 "nbformat": 4,
 "nbformat_minor": 2
}
